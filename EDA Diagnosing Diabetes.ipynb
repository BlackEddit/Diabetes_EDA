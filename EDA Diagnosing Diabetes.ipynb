{
 "cells": [
  {
   "cell_type": "markdown",
   "id": "f4c71b09",
   "metadata": {},
   "source": [
    "# EDA: Diagnosing Diabetes"
   ]
  },
  {
   "cell_type": "markdown",
   "id": "7cf00067",
   "metadata": {},
   "source": [
    "In this project, you'll imagine you are a data scientist interested in exploring data that looks at how certain diagnostic factors affect the diabetes outcome of women patients.\n",
    "\n",
    "You will use your EDA skills to help inspect, clean, and validate the data.\n",
    "\n",
    "**Note**: This [dataset](https://www.kaggle.com/uciml/pima-indians-diabetes-database) is from the National Institute of Diabetes and Digestive and Kidney Diseases. It contains the following columns:\n",
    "\n",
    "- `Pregnancies`: Number of times pregnant\n",
    "- `Glucose`: Plasma glucose concentration per 2 hours in an oral glucose tolerance test\n",
    "- `BloodPressure`: Diastolic blood pressure\n",
    "- `SkinThickness`: Triceps skinfold thickness\n",
    "- `Insulin`: 2-Hour serum insulin\n",
    "- `BMI`: Body mass index\n",
    "- `DiabetesPedigreeFunction`: Diabetes pedigree function\n",
    "- `Age`: Age (years)\n",
    "- `Outcome`: Class variable (0 or 1)\n",
    "\n",
    "Let's get started!"
   ]
  },
  {
   "cell_type": "markdown",
   "id": "6e1cc217",
   "metadata": {},
   "source": [
    "## Initial Inspection"
   ]
  },
  {
   "cell_type": "markdown",
   "id": "76684c5b",
   "metadata": {},
   "source": [
    "1. First, familiarize yourself with the dataset [here](https://www.kaggle.com/uciml/pima-indians-diabetes-database).\n",
    "\n",
    "   Look at each of the nine columns in the documentation.\n",
    "   \n",
    "   What do you expect each data type to be?"
   ]
  },
  {
   "cell_type": "markdown",
   "id": "f7bdb023",
   "metadata": {},
   "source": [
    "Expected data type for each column:\n",
    "\n",
    "- `Pregnancies`: How many times the lady stay pregnant in their life, a countable variable - Variable Numerica, Discreta \n",
    "- `Glucose`: Concetracion de la glucosa, Dice que en dos horas de tolerancia, se realizo atravez de un test oral...\n",
    "- `BloodPressure`: Presion Diastolica  en  mmHg (Milimetros de mercurio)\n",
    "- `SkinThickness`: Espesor de la piel en el area de triceps\n",
    "- `Insulin`: 2 horas de serum insulina, en unidadedades de U/ml (Uniddad / Miligramo) # Investigar mas a fondo... 26 - 07 - 2023\n",
    "- `BMI`:  Indice de Masa corporal en (Peso / Kilogramo) / Altura(metros ) ** 2 \n",
    "- `DiabetesPedigreeFunction`: Funcion, de diabetes pedigre... tiene en cuenta los antecedentes de diabetes en familiares y el linaje genético.\n",
    "- `Age`: Edad\n",
    "- `Outcome`:  Salida, Que tipo de diabetes posee. 0 - 1 "
   ]
  },
  {
   "cell_type": "markdown",
   "id": "fc54249b",
   "metadata": {},
   "source": [
    "2. Next, let's load in the diabetes data to start exploring.\n",
    "\n",
    "   Load the data in a variable called `diabetes_data` and print the first few rows.\n",
    "   \n",
    "   **Note**: The data is stored in a file called `diabetes.csv`."
   ]
  },
  {
   "cell_type": "code",
   "execution_count": 58,
   "id": "4839762f",
   "metadata": {},
   "outputs": [
    {
     "name": "stdout",
     "output_type": "stream",
     "text": [
      "+----+---------------+-----------+-----------------+-----------------+-----------+-------+----------------------------+-------+-----------+\n",
      "|    |   Pregnancies |   Glucose |   BloodPressure |   SkinThickness |   Insulin |   BMI |   DiabetesPedigreeFunction |   Age |   Outcome |\n",
      "|----+---------------+-----------+-----------------+-----------------+-----------+-------+----------------------------+-------+-----------|\n",
      "|  0 |             6 |       148 |              72 |              35 |         0 |  33.6 |                      0.627 |    50 |         1 |\n",
      "|  1 |             1 |        85 |              66 |              29 |         0 |  26.6 |                      0.351 |    31 |         0 |\n",
      "|  2 |             8 |       183 |              64 |               0 |         0 |  23.3 |                      0.672 |    32 |         1 |\n",
      "|  3 |             1 |        89 |              66 |              23 |        94 |  28.1 |                      0.167 |    21 |         0 |\n",
      "|  4 |             0 |       137 |              40 |              35 |       168 |  43.1 |                      2.288 |    33 |         1 |\n",
      "+----+---------------+-----------+-----------------+-----------------+-----------+-------+----------------------------+-------+-----------+\n"
     ]
    }
   ],
   "source": [
    "import pandas as pd\n",
    "import numpy as np\n",
    "import seaborn as sns\n",
    "import missingno as msno\n",
    "import matplotlib.pyplot as plt\n",
    "\n",
    "#Para una mejor impresion y visualizacion sencilla de los datos usaremos tabulate\n",
    "from tabulate import tabulate\n",
    "\n",
    "\n",
    "\n",
    "# load in data\n",
    "diabetes_data = pd.read_csv('diabetes.csv')\n",
    "\n",
    "#Presentacion unicamente de los primeros valores, keys son las columnas y tableftm, es la forma de presentacion, tambien podriamos usar simple\n",
    "print(tabulate(diabetes_data.head(),  headers='keys', tablefmt='psql'))"
   ]
  },
  {
   "cell_type": "markdown",
   "id": "90d35b44",
   "metadata": {},
   "source": [
    "3. How many columns (features) does the data contain?"
   ]
  },
  {
   "cell_type": "code",
   "execution_count": 42,
   "id": "c7fc98c4",
   "metadata": {},
   "outputs": [
    {
     "name": "stdout",
     "output_type": "stream",
     "text": [
      "9\n"
     ]
    }
   ],
   "source": [
    "# print number of columns\n",
    "#print(diabetes_data.info())\n",
    "\n",
    "print(len(diabetes_data.columns))\n",
    "#We have in total 9 columns, and 768 entrys."
   ]
  },
  {
   "cell_type": "markdown",
   "id": "35d2bf80",
   "metadata": {},
   "source": [
    "4. How many rows (observations) does the data contain?"
   ]
  },
  {
   "cell_type": "code",
   "execution_count": 43,
   "id": "190b7a90",
   "metadata": {},
   "outputs": [
    {
     "name": "stdout",
     "output_type": "stream",
     "text": [
      "768\n",
      " \n",
      "  (768, 9)\n"
     ]
    }
   ],
   "source": [
    "# print number of rows\n",
    "# De esta manera conseguimos el numero de filas, aun que de igual manera pudimos visualizarlo en info... as entries...\n",
    "print(len(diabetes_data))\n",
    "\n",
    "#Other way to saw the rows and columns is the next:\n",
    "print(f\" \\n  {diabetes_data.shape}\" )"
   ]
  },
  {
   "cell_type": "markdown",
   "id": "65d8ddf0",
   "metadata": {},
   "source": [
    "## Further Inspection"
   ]
  },
  {
   "cell_type": "markdown",
   "id": "04e3c6ef",
   "metadata": {},
   "source": [
    "5. Let's inspect `diabetes_data` further.\n",
    "\n",
    "   Do any of the columns in the data contain null (missing) values?"
   ]
  },
  {
   "cell_type": "code",
   "execution_count": 44,
   "id": "d0fa3860",
   "metadata": {},
   "outputs": [
    {
     "name": "stdout",
     "output_type": "stream",
     "text": [
      "\n",
      "\n",
      "<class 'pandas.core.frame.DataFrame'>\n",
      "RangeIndex: 768 entries, 0 to 767\n",
      "Data columns (total 9 columns):\n",
      " #   Column                    Non-Null Count  Dtype  \n",
      "---  ------                    --------------  -----  \n",
      " 0   Pregnancies               768 non-null    int64  \n",
      " 1   Glucose                   768 non-null    int64  \n",
      " 2   BloodPressure             768 non-null    int64  \n",
      " 3   SkinThickness             768 non-null    int64  \n",
      " 4   Insulin                   768 non-null    int64  \n",
      " 5   BMI                       768 non-null    float64\n",
      " 6   DiabetesPedigreeFunction  768 non-null    float64\n",
      " 7   Age                       768 non-null    int64  \n",
      " 8   Outcome                   768 non-null    object \n",
      "dtypes: float64(2), int64(6), object(1)\n",
      "memory usage: 54.1+ KB\n",
      "None\n"
     ]
    }
   ],
   "source": [
    "# find whether columns contain null values\n",
    "\n",
    "# Este es un método de pandas que se utiliza para detectar valores faltantes en un DataFrame. Para cada celda del DataFrame, \n",
    "# si el valor de la celda es NaN, entonces este método devuelve True, de lo contrario, devuelve False.\n",
    "\n",
    "#print(f'{type(diabetes_data.isnull().sum())} \\n -----') # se obtiene una serie\n",
    "#print(diabetes_data.isnull().sum())\n",
    "\n",
    "print('\\n')\n",
    "\n",
    "print(diabetes_data.info()) # Hay una  gran diferencia entre usar info e info()"
   ]
  },
  {
   "cell_type": "markdown",
   "id": "8ee62c01",
   "metadata": {},
   "source": [
    "6. If you answered no to the question above, not so fast!\n",
    "\n",
    "   While it's technically true that none of the columns contain null values, that doesn't necessarily mean that the data isn't missing any values.\n",
    "   \n",
    "   When exploring data, you should always question your assumptions and try to dig deeper.\n",
    "   \n",
    "   To investigate further, calculate summary statistics on `diabetes_data` using the `.describe()` method."
   ]
  },
  {
   "cell_type": "code",
   "execution_count": 45,
   "id": "451efb00",
   "metadata": {},
   "outputs": [
    {
     "name": "stdout",
     "output_type": "stream",
     "text": [
      "       Pregnancies     Glucose  BloodPressure  SkinThickness     Insulin  \\\n",
      "count   768.000000  768.000000     768.000000     768.000000  768.000000   \n",
      "mean      3.845052  120.894531      69.105469      20.536458   79.799479   \n",
      "std       3.369578   31.972618      19.355807      15.952218  115.244002   \n",
      "min       0.000000    0.000000       0.000000       0.000000    0.000000   \n",
      "25%       1.000000   99.000000      62.000000       0.000000    0.000000   \n",
      "50%       3.000000  117.000000      72.000000      23.000000   30.500000   \n",
      "75%       6.000000  140.250000      80.000000      32.000000  127.250000   \n",
      "max      17.000000  199.000000     122.000000      99.000000  846.000000   \n",
      "\n",
      "              BMI  DiabetesPedigreeFunction         Age  \n",
      "count  768.000000                768.000000  768.000000  \n",
      "mean    31.992578                  0.471876   33.240885  \n",
      "std      7.884160                  0.331329   11.760232  \n",
      "min      0.000000                  0.078000   21.000000  \n",
      "25%     27.300000                  0.243750   24.000000  \n",
      "50%     32.000000                  0.372500   29.000000  \n",
      "75%     36.600000                  0.626250   41.000000  \n",
      "max     67.100000                  2.420000   81.000000  \n"
     ]
    }
   ],
   "source": [
    "# perform summary statistics\n",
    "print(diabetes_data.describe())"
   ]
  },
  {
   "cell_type": "markdown",
   "id": "ad900272",
   "metadata": {},
   "source": [
    "7. Looking at the summary statistics, do you notice anything odd about the following columns?\n",
    "\n",
    "   - `Glucose` \n",
    "   - `BloodPressure`\n",
    "   - `SkinThickness`\n",
    "   - `Insulin`\n",
    "   - `BMI`\n",
    "   \n",
    "   All of them take values with 0.00000  that actually doesnt makes sense, so that are missing values."
   ]
  },
  {
   "cell_type": "markdown",
   "id": "7131eacb",
   "metadata": {},
   "source": [
    "**Your response to question 7**:"
   ]
  },
  {
   "cell_type": "markdown",
   "id": "3ed15b79",
   "metadata": {},
   "source": [
    "8. Do you spot any other outliers in the data?\n",
    "\n",
    "The maximum value of the Insulin column is 846, which is abnormally high.\n",
    "The maximum value of the Pregnancies column is 17. While having 17 pregnancies is not impossible, this case might be something to look further into to determine its accuracy."
   ]
  },
  {
   "cell_type": "markdown",
   "id": "8a708e88",
   "metadata": {},
   "source": [
    "**Your response to question 8**:"
   ]
  },
  {
   "cell_type": "markdown",
   "id": "4b5bcf47",
   "metadata": {},
   "source": [
    "9. Let's see if we can get a more accurate view of the missing values in the data.\n",
    "\n",
    "   Use the following code to replace the instances of `0` with `NaN` in the five columns mentioned:\n",
    "   \n",
    "   ```py\n",
    "   diabetes_data[['Glucose', 'BloodPressure', 'SkinThickness', 'Insulin', 'BMI']] = diabetes_data[['Glucose', 'BloodPressure', 'SkinThickness', 'Insulin', 'BMI']].replace(0, np.NaN)\n",
    "\n",
    "   Los métodos de pandas para manejar los datos faltantes, como dropna() (para eliminar filas o columnas con datos faltantes) o fillna() (para reemplazar los datos faltantes con un valor específico), pueden ser aplicados de manera eficiente.\n",
    "Cuando se calculan estadísticas descriptivas (media, mediana, etc.), np.nan es ignorado por defecto. Esto significa que los ceros que en realidad representan datos faltantes no influirán en estas estadísticas y potencialmente sesgarán los resultados.\n",
    "Permite una mejor visualización de los datos faltantes. Al usar funciones como isnull(), los np.nan serán identificados claramente como datos faltantes.\n",
    "\n",
    "   ```"
   ]
  },
  {
   "cell_type": "code",
   "execution_count": 46,
   "id": "623def40",
   "metadata": {},
   "outputs": [],
   "source": [
    "# replace instances of 0 with NaN\n",
    "diabetes_data[['Glucose','BloodPressure','SkinThickness','Insulin','BMI']] = diabetes_data[['Glucose','BloodPressure','SkinThickness','Insulin','BMI']].replace(0,np.nan)\n",
    "\n"
   ]
  },
  {
   "cell_type": "markdown",
   "id": "ad9fc71d",
   "metadata": {},
   "source": [
    "10. Next, check for missing (null) values in all of the columns just like you did in Step 5.\n",
    "\n",
    "    Now how many missing values are there?"
   ]
  },
  {
   "cell_type": "code",
   "execution_count": 47,
   "id": "1e4d2845",
   "metadata": {},
   "outputs": [
    {
     "name": "stdout",
     "output_type": "stream",
     "text": [
      "Pregnancies                   0\n",
      "Glucose                       5\n",
      "BloodPressure                35\n",
      "SkinThickness               227\n",
      "Insulin                     374\n",
      "BMI                          11\n",
      "DiabetesPedigreeFunction      0\n",
      "Age                           0\n",
      "Outcome                       0\n",
      "dtype: int64\n"
     ]
    }
   ],
   "source": [
    "# find whether columns contain null values after replacements are made\n",
    "print(diabetes_data.isnull().sum())\n"
   ]
  },
  {
   "cell_type": "markdown",
   "id": "4265329e",
   "metadata": {},
   "source": [
    "11. Let's take a closer look at these rows to get a better idea of _why_ some data might be missing.\n",
    "\n",
    "    Print out all the rows that contain missing (null) values."
   ]
  },
  {
   "cell_type": "code",
   "execution_count": 55,
   "id": "91f5b1fe",
   "metadata": {},
   "outputs": [
    {
     "name": "stdout",
     "output_type": "stream",
     "text": [
      "There is a count of 376  NULL values \n",
      "\n",
      "+-----+---------------+-----------+-----------------+-----------------+-----------+-------+----------------------------+-------+-----------+\n",
      "|     |   Pregnancies |   Glucose |   BloodPressure |   SkinThickness |   Insulin |   BMI |   DiabetesPedigreeFunction |   Age | Outcome   |\n",
      "|-----+---------------+-----------+-----------------+-----------------+-----------+-------+----------------------------+-------+-----------|\n",
      "|   0 |             6 |       148 |              72 |              35 |       nan |  33.6 |                      0.627 |    50 | 1         |\n",
      "|   1 |             1 |        85 |              66 |              29 |       nan |  26.6 |                      0.351 |    31 | 0         |\n",
      "|   2 |             8 |       183 |              64 |             nan |       nan |  23.3 |                      0.672 |    32 | 1         |\n",
      "|   5 |             5 |       116 |              74 |             nan |       nan |  25.6 |                      0.201 |    30 | 0         |\n",
      "|   7 |            10 |       115 |             nan |             nan |       nan |  35.3 |                      0.134 |    29 | 0         |\n",
      "|   9 |             8 |       125 |              96 |             nan |       nan | nan   |                      0.232 |    54 | 1         |\n",
      "|  10 |             4 |       110 |              92 |             nan |       nan |  37.6 |                      0.191 |    30 | 0         |\n",
      "|  11 |            10 |       168 |              74 |             nan |       nan |  38   |                      0.537 |    34 | 1         |\n",
      "|  12 |            10 |       139 |              80 |             nan |       nan |  27.1 |                      1.441 |    57 | 0         |\n",
      "|  15 |             7 |       100 |             nan |             nan |       nan |  30   |                      0.484 |    32 | 1         |\n",
      "|  17 |             7 |       107 |              74 |             nan |       nan |  29.6 |                      0.254 |    31 | 1         |\n",
      "|  21 |             8 |        99 |              84 |             nan |       nan |  35.4 |                      0.388 |    50 | 0         |\n",
      "|  22 |             7 |       196 |              90 |             nan |       nan |  39.8 |                      0.451 |    41 | 1         |\n",
      "|  23 |             9 |       119 |              80 |              35 |       nan |  29   |                      0.263 |    29 | 1         |\n",
      "|  26 |             7 |       147 |              76 |             nan |       nan |  39.4 |                      0.257 |    43 | 1         |\n",
      "|  29 |             5 |       117 |              92 |             nan |       nan |  34.1 |                      0.337 |    38 | 0         |\n",
      "|  30 |             5 |       109 |              75 |              26 |       nan |  36   |                      0.546 |    60 | 0         |\n",
      "|  33 |             6 |        92 |              92 |             nan |       nan |  19.9 |                      0.188 |    28 | 0         |\n",
      "|  34 |            10 |       122 |              78 |              31 |       nan |  27.6 |                      0.512 |    45 | 0         |\n",
      "|  36 |            11 |       138 |              76 |             nan |       nan |  33.2 |                      0.42  |    35 | 0         |\n",
      "|  37 |             9 |       102 |              76 |              37 |       nan |  32.9 |                      0.665 |    46 | 1         |\n",
      "|  38 |             2 |        90 |              68 |              42 |       nan |  38.2 |                      0.503 |    27 | 1         |\n",
      "|  41 |             7 |       133 |              84 |             nan |       nan |  40.2 |                      0.696 |    37 | 0         |\n",
      "|  42 |             7 |       106 |              92 |              18 |       nan |  22.7 |                      0.235 |    48 | 0         |\n",
      "|  44 |             7 |       159 |              64 |             nan |       nan |  27.4 |                      0.294 |    40 | 0         |\n",
      "|  45 |             0 |       180 |              66 |              39 |       nan |  42   |                      1.893 |    25 | 1         |\n",
      "|  46 |             1 |       146 |              56 |             nan |       nan |  29.7 |                      0.564 |    29 | 0         |\n",
      "|  47 |             2 |        71 |              70 |              27 |       nan |  28   |                      0.586 |    22 | 0         |\n",
      "|  48 |             7 |       103 |              66 |              32 |       nan |  39.1 |                      0.344 |    31 | 1         |\n",
      "|  49 |             7 |       105 |             nan |             nan |       nan | nan   |                      0.305 |    24 | 0         |\n",
      "|  55 |             1 |        73 |              50 |              10 |       nan |  23   |                      0.248 |    21 | 0         |\n",
      "|  58 |             0 |       146 |              82 |             nan |       nan |  40.5 |                      1.781 |    44 | 0         |\n",
      "|  60 |             2 |        84 |             nan |             nan |       nan | nan   |                      0.304 |    21 | 0         |\n",
      "|  61 |             8 |       133 |              72 |             nan |       nan |  32.9 |                      0.27  |    39 | 1         |\n",
      "|  62 |             5 |        44 |              62 |             nan |       nan |  25   |                      0.587 |    36 | 0         |\n",
      "|  64 |             7 |       114 |              66 |             nan |       nan |  32.8 |                      0.258 |    42 | 1         |\n",
      "|  65 |             5 |        99 |              74 |              27 |       nan |  29   |                      0.203 |    32 | 0         |\n",
      "|  66 |             0 |       109 |              88 |              30 |       nan |  32.5 |                      0.855 |    38 | 1         |\n",
      "|  67 |             2 |       109 |              92 |             nan |       nan |  42.7 |                      0.845 |    54 | O         |\n",
      "|  72 |            13 |       126 |              90 |             nan |       nan |  43.4 |                      0.583 |    42 | 1         |\n",
      "|  74 |             1 |        79 |              75 |              30 |       nan |  32   |                      0.396 |    22 | 0         |\n",
      "|  75 |             1 |       nan |              48 |              20 |       nan |  24.7 |                      0.14  |    22 | 0         |\n",
      "|  76 |             7 |        62 |              78 |             nan |       nan |  32.6 |                      0.391 |    41 | 0         |\n",
      "|  77 |             5 |        95 |              72 |              33 |       nan |  37.7 |                      0.37  |    27 | 0         |\n",
      "|  78 |             0 |       131 |             nan |             nan |       nan |  43.2 |                      0.27  |    26 | 1         |\n",
      "|  79 |             2 |       112 |              66 |              22 |       nan |  25   |                      0.307 |    24 | 0         |\n",
      "|  80 |             3 |       113 |              44 |              13 |       nan |  22.4 |                      0.14  |    22 | 0         |\n",
      "|  81 |             2 |        74 |             nan |             nan |       nan | nan   |                      0.102 |    22 | 0         |\n",
      "|  83 |             0 |       101 |              65 |              28 |       nan |  24.6 |                      0.237 |    22 | 0         |\n",
      "|  84 |             5 |       137 |             108 |             nan |       nan |  48.8 |                      0.227 |    37 | 1         |\n",
      "|  86 |            13 |       106 |              72 |              54 |       nan |  36.6 |                      0.178 |    45 | 0         |\n",
      "|  89 |             1 |       107 |              68 |              19 |       nan |  26.5 |                      0.165 |    24 | 0         |\n",
      "|  90 |             1 |        80 |              55 |             nan |       nan |  19.1 |                      0.258 |    21 | 0         |\n",
      "|  93 |             4 |       134 |              72 |             nan |       nan |  23.8 |                      0.277 |    60 | 1         |\n",
      "|  96 |             2 |        92 |              62 |              28 |       nan |  31.6 |                      0.13  |    24 | 0         |\n",
      "| 100 |             1 |       163 |              72 |             nan |       nan |  39   |                      1.222 |    33 | 1         |\n",
      "| 101 |             1 |       151 |              60 |             nan |       nan |  26.1 |                      0.179 |    22 | 0         |\n",
      "| 102 |             0 |       125 |              96 |             nan |       nan |  22.5 |                      0.262 |    21 | 0         |\n",
      "| 104 |             2 |        85 |              65 |             nan |       nan |  39.6 |                      0.93  |    27 | 0         |\n",
      "| 106 |             1 |        96 |             122 |             nan |       nan |  22.4 |                      0.207 |    27 | 0         |\n",
      "| 113 |             4 |        76 |              62 |             nan |       nan |  34   |                      0.391 |    25 | 0         |\n",
      "| 115 |             4 |       146 |              92 |             nan |       nan |  31.2 |                      0.539 |    61 | 1         |\n",
      "| 116 |             5 |       124 |              74 |             nan |       nan |  34   |                      0.22  |    38 | 1         |\n",
      "| 117 |             5 |        78 |              48 |             nan |       nan |  33.7 |                      0.654 |    25 | 0         |\n",
      "| 118 |             4 |        97 |              60 |              23 |       nan |  28.2 |                      0.443 |    22 | 0         |\n",
      "| 121 |             6 |       111 |              64 |              39 |       nan |  34.2 |                      0.26  |    24 | 0         |\n",
      "| 123 |             5 |       132 |              80 |             nan |       nan |  26.8 |                      0.186 |    69 | 0         |\n",
      "| 124 |             0 |       113 |              76 |             nan |       nan |  33.3 |                      0.278 |    23 | 1         |\n",
      "| 129 |             0 |       105 |              84 |             nan |       nan |  27.9 |                      0.741 |    62 | 1         |\n",
      "| 131 |             9 |       122 |              56 |             nan |       nan |  33.3 |                      1.114 |    33 | 1         |\n",
      "| 133 |             8 |        84 |              74 |              31 |       nan |  38.3 |                      0.457 |    39 | 0         |\n",
      "| 138 |             0 |       129 |              80 |             nan |       nan |  31.2 |                      0.703 |    29 | 0         |\n",
      "| 140 |             3 |       128 |              78 |             nan |       nan |  21.1 |                      0.268 |    55 | 0         |\n",
      "| 141 |             5 |       106 |              82 |              30 |       nan |  39.5 |                      0.286 |    38 | 0         |\n",
      "| 143 |            10 |       108 |              66 |             nan |       nan |  32.4 |                      0.272 |    42 | 1         |\n",
      "| 145 |             0 |       102 |              75 |              23 |       nan | nan   |                      0.572 |    21 | 0         |\n",
      "| 146 |             9 |        57 |              80 |              37 |       nan |  32.8 |                      0.096 |    41 | 0         |\n",
      "| 148 |             5 |       147 |              78 |             nan |       nan |  33.7 |                      0.218 |    65 | 0         |\n",
      "| 149 |             2 |        90 |              70 |              17 |       nan |  27.3 |                      0.085 |    22 | 0         |\n",
      "| 151 |             4 |       114 |              65 |             nan |       nan |  21.9 |                      0.432 |    37 | 0         |\n",
      "| 154 |             8 |       188 |              78 |             nan |       nan |  47.9 |                      0.137 |    43 | 1         |\n",
      "| 155 |             7 |       152 |              88 |              44 |       nan |  50   |                      0.337 |    36 | 1         |\n",
      "| 160 |             4 |       151 |              90 |              38 |       nan |  29.7 |                      0.294 |    36 | 0         |\n",
      "| 163 |             2 |       100 |              64 |              23 |       nan |  29.7 |                      0.368 |    21 | 0         |\n",
      "| 164 |             0 |       131 |              88 |             nan |       nan |  31.6 |                      0.743 |    32 | 1         |\n",
      "| 166 |             3 |       148 |              66 |              25 |       nan |  32.5 |                      0.256 |    22 | O         |\n",
      "| 167 |             4 |       120 |              68 |             nan |       nan |  29.6 |                      0.709 |    34 | 0         |\n",
      "| 168 |             4 |       110 |              66 |             nan |       nan |  31.9 |                      0.471 |    29 | 0         |\n",
      "| 170 |             6 |       102 |              82 |             nan |       nan |  30.8 |                      0.18  |    36 | 1         |\n",
      "| 172 |             2 |        87 |             nan |              23 |       nan |  28.9 |                      0.773 |    25 | 0         |\n",
      "| 176 |             6 |        85 |              78 |             nan |       nan |  31.2 |                      0.382 |    42 | 0         |\n",
      "| 178 |             5 |       143 |              78 |             nan |       nan |  45   |                      0.19  |    47 | 0         |\n",
      "| 179 |             5 |       130 |              82 |             nan |       nan |  39.1 |                      0.956 |    37 | 1         |\n",
      "| 180 |             6 |        87 |              80 |             nan |       nan |  23.2 |                      0.084 |    32 | 0         |\n",
      "| 182 |             1 |       nan |              74 |              20 |        23 |  27.7 |                      0.299 |    21 | 0         |\n",
      "| 183 |             5 |        73 |              60 |             nan |       nan |  26.8 |                      0.268 |    27 | 0         |\n",
      "| 184 |             4 |       141 |              74 |             nan |       nan |  27.6 |                      0.244 |    40 | 0         |\n",
      "| 185 |             7 |       194 |              68 |              28 |       nan |  35.9 |                      0.745 |    41 | 1         |\n",
      "| 190 |             3 |       111 |              62 |             nan |       nan |  22.6 |                      0.142 |    21 | 0         |\n",
      "| 192 |             7 |       159 |              66 |             nan |       nan |  30.4 |                      0.383 |    36 | 1         |\n",
      "| 193 |            11 |       135 |             nan |             nan |       nan |  52.3 |                      0.578 |    40 | 1         |\n",
      "| 194 |             8 |        85 |              55 |              20 |       nan |  24.4 |                      0.136 |    42 | 0         |\n",
      "| 196 |             1 |       105 |              58 |             nan |       nan |  24.3 |                      0.187 |    21 | 0         |\n",
      "| 200 |             0 |       113 |              80 |              16 |       nan |  31   |                      0.874 |    21 | 0         |\n",
      "| 201 |             1 |       138 |              82 |             nan |       nan |  40.1 |                      0.236 |    28 | 0         |\n",
      "| 202 |             0 |       108 |              68 |              20 |       nan |  27.3 |                      0.787 |    32 | 0         |\n",
      "| 205 |             5 |       111 |              72 |              28 |       nan |  23.9 |                      0.407 |    27 | 0         |\n",
      "| 207 |             5 |       162 |             104 |             nan |       nan |  37.7 |                      0.151 |    52 | 1         |\n",
      "| 209 |             7 |       184 |              84 |              33 |       nan |  35.5 |                      0.355 |    41 | 1         |\n",
      "| 210 |             2 |        81 |              60 |              22 |       nan |  27.7 |                      0.29  |    25 | 0         |\n",
      "| 211 |             0 |       147 |              85 |              54 |       nan |  42.8 |                      0.375 |    24 | 0         |\n",
      "| 212 |             7 |       179 |              95 |              31 |       nan |  34.2 |                      0.164 |    60 | 0         |\n",
      "| 218 |             5 |        85 |              74 |              22 |       nan |  29   |                      1.224 |    32 | 1         |\n",
      "| 219 |             5 |       112 |              66 |             nan |       nan |  37.8 |                      0.261 |    41 | 1         |\n",
      "| 221 |             2 |       158 |              90 |             nan |       nan |  31.6 |                      0.805 |    66 | 1         |\n",
      "| 222 |             7 |       119 |             nan |             nan |       nan |  25.2 |                      0.209 |    37 | 0         |\n",
      "| 226 |             0 |       101 |              76 |             nan |       nan |  35.7 |                      0.198 |    26 | 0         |\n",
      "| 227 |             3 |       162 |              52 |              38 |       nan |  37.2 |                      0.652 |    24 | 1         |\n",
      "| 230 |             4 |       142 |              86 |             nan |       nan |  44   |                      0.645 |    22 | 1         |\n",
      "| 233 |             4 |       122 |              68 |             nan |       nan |  35   |                      0.394 |    29 | 0         |\n",
      "| 235 |             4 |       171 |              72 |             nan |       nan |  43.6 |                      0.479 |    26 | 1         |\n",
      "| 237 |             0 |       179 |              90 |              27 |       nan |  44.1 |                      0.686 |    23 | 1         |\n",
      "| 238 |             9 |       164 |              84 |              21 |       nan |  30.8 |                      0.831 |    32 | 1         |\n",
      "| 239 |             0 |       104 |              76 |             nan |       nan |  18.4 |                      0.582 |    27 | 0         |\n",
      "| 240 |             1 |        91 |              64 |              24 |       nan |  29.2 |                      0.192 |    21 | 0         |\n",
      "| 242 |             3 |       139 |              54 |             nan |       nan |  25.6 |                      0.402 |    22 | 1         |\n",
      "| 245 |             9 |       184 |              85 |              15 |       nan |  30   |                      1.213 |    49 | 1         |\n",
      "| 246 |            10 |       122 |              68 |             nan |       nan |  31.2 |                      0.258 |    41 | 0         |\n",
      "| 249 |             1 |       111 |              86 |              19 |       nan |  30.1 |                      0.143 |    23 | 0         |\n",
      "| 250 |             9 |       106 |              52 |             nan |       nan |  31.2 |                      0.38  |    42 | 0         |\n",
      "| 251 |             2 |       129 |              84 |             nan |       nan |  28   |                      0.284 |    27 | 0         |\n",
      "| 253 |             0 |        86 |              68 |              32 |       nan |  35.8 |                      0.238 |    25 | 0         |\n",
      "| 255 |             1 |       113 |              64 |              35 |       nan |  33.6 |                      0.543 |    21 | 1         |\n",
      "| 256 |             3 |       111 |              56 |              39 |       nan |  30.1 |                      0.557 |    30 | 0         |\n",
      "| 257 |             2 |       114 |              68 |              22 |       nan |  28.7 |                      0.092 |    25 | 0         |\n",
      "| 261 |             3 |       141 |             nan |             nan |       nan |  30   |                      0.761 |    27 | 1         |\n",
      "| 262 |             4 |        95 |              70 |              32 |       nan |  32.1 |                      0.612 |    24 | 0         |\n",
      "| 263 |             3 |       142 |              80 |              15 |       nan |  32.4 |                      0.2   |    63 | 0         |\n",
      "| 264 |             4 |       123 |              62 |             nan |       nan |  32   |                      0.226 |    35 | 1         |\n",
      "| 266 |             0 |       138 |             nan |             nan |       nan |  36.3 |                      0.933 |    25 | 1         |\n",
      "| 267 |             2 |       128 |              64 |              42 |       nan |  40   |                      1.101 |    24 | 0         |\n",
      "| 268 |             0 |       102 |              52 |             nan |       nan |  25.1 |                      0.078 |    21 | 0         |\n",
      "| 269 |             2 |       146 |             nan |             nan |       nan |  27.5 |                      0.24  |    28 | 1         |\n",
      "| 270 |            10 |       101 |              86 |              37 |       nan |  45.6 |                      1.136 |    38 | 1         |\n",
      "| 272 |             3 |       122 |              78 |             nan |       nan |  23   |                      0.254 |    40 | 0         |\n",
      "| 274 |            13 |       106 |              70 |             nan |       nan |  34.2 |                      0.251 |    52 | 0         |\n",
      "| 276 |             7 |       106 |              60 |              24 |       nan |  26.5 |                      0.296 |    29 | 1         |\n",
      "| 278 |             5 |       114 |              74 |             nan |       nan |  24.9 |                      0.744 |    57 | 0         |\n",
      "| 280 |             0 |       146 |              70 |             nan |       nan |  37.9 |                      0.334 |    28 | 1         |\n",
      "| 283 |             7 |       161 |              86 |             nan |       nan |  30.4 |                      0.165 |    47 | 1         |\n",
      "| 284 |             2 |       108 |              80 |             nan |       nan |  27   |                      0.259 |    52 | 1         |\n",
      "| 294 |             0 |       161 |              50 |             nan |       nan |  21.9 |                      0.254 |    65 | 0         |\n",
      "| 299 |             8 |       112 |              72 |             nan |       nan |  23.6 |                      0.84  |    58 | 0         |\n",
      "| 300 |             0 |       167 |             nan |             nan |       nan |  32.3 |                      0.839 |    30 | 1         |\n",
      "| 303 |             5 |       115 |              98 |             nan |       nan |  52.9 |                      0.209 |    28 | 1         |\n",
      "| 304 |             3 |       150 |              76 |             nan |       nan |  21   |                      0.207 |    37 | 0         |\n",
      "| 310 |             6 |        80 |              66 |              30 |       nan |  26.2 |                      0.313 |    41 | 0         |\n",
      "| 314 |             7 |       109 |              80 |              31 |       nan |  35.9 |                      1.127 |    43 | 1         |\n",
      "| 317 |             3 |       182 |              74 |             nan |       nan |  30.5 |                      0.345 |    29 | 1         |\n",
      "| 319 |             6 |       194 |              78 |             nan |       nan |  23.5 |                      0.129 |    59 | 1         |\n",
      "| 321 |             3 |       112 |              74 |              30 |       nan |  31.6 |                      0.197 |    25 | 1         |\n",
      "| 322 |             0 |       124 |              70 |              20 |       nan |  27.4 |                      0.254 |    36 | 1         |\n",
      "| 324 |             2 |       112 |              75 |              32 |       nan |  35.7 |                      0.148 |    21 | 0         |\n",
      "| 327 |            10 |       179 |              70 |             nan |       nan |  35.1 |                      0.2   |    37 | 0         |\n",
      "| 330 |             8 |       118 |              72 |              19 |       nan |  23.1 |                      1.476 |    46 | 0         |\n",
      "| 332 |             1 |       180 |             nan |             nan |       nan |  43.3 |                      0.282 |    41 | 1         |\n",
      "| 333 |            12 |       106 |              80 |             nan |       nan |  23.6 |                      0.137 |    44 | 0         |\n",
      "| 336 |             0 |       117 |             nan |             nan |       nan |  33.8 |                      0.932 |    44 | 0         |\n",
      "| 337 |             5 |       115 |              76 |             nan |       nan |  31.2 |                      0.343 |    44 | 1         |\n",
      "| 339 |             7 |       178 |              84 |             nan |       nan |  39.9 |                      0.331 |    41 | 1         |\n",
      "| 342 |             1 |       nan |              68 |              35 |       nan |  32   |                      0.389 |    22 | 0         |\n",
      "| 343 |             5 |       122 |              86 |             nan |       nan |  34.7 |                      0.29  |    33 | 0         |\n",
      "| 344 |             8 |        95 |              72 |             nan |       nan |  36.8 |                      0.485 |    57 | 0         |\n",
      "| 347 |             3 |       116 |             nan |             nan |       nan |  23.5 |                      0.187 |    23 | 0         |\n",
      "| 349 |             5 |       nan |              80 |              32 |       nan |  41   |                      0.346 |    37 | 1         |\n",
      "| 350 |             4 |        92 |              80 |             nan |       nan |  42.2 |                      0.237 |    29 | 0         |\n",
      "| 351 |             4 |       137 |              84 |             nan |       nan |  31.2 |                      0.252 |    30 | 0         |\n",
      "| 352 |             3 |        61 |              82 |              28 |       nan |  34.4 |                      0.243 |    46 | 0         |\n",
      "| 354 |             3 |        90 |              78 |             nan |       nan |  42.7 |                      0.559 |    21 | 0         |\n",
      "| 355 |             9 |       165 |              88 |             nan |       nan |  30.4 |                      0.302 |    49 | 1         |\n",
      "| 357 |            13 |       129 |             nan |              30 |       nan |  39.9 |                      0.569 |    44 | 1         |\n",
      "| 361 |             5 |       158 |              70 |             nan |       nan |  29.8 |                      0.207 |    63 | 0         |\n",
      "| 362 |             5 |       103 |             108 |              37 |       nan |  39.2 |                      0.305 |    65 | 0         |\n",
      "| 363 |             4 |       146 |              78 |             nan |       nan |  38.5 |                      0.52  |    67 | 1         |\n",
      "| 366 |             6 |       124 |              72 |             nan |       nan |  27.6 |                      0.368 |    29 | 1         |\n",
      "| 367 |             0 |       101 |              64 |              17 |       nan |  21   |                      0.252 |    21 | 0         |\n",
      "| 371 |             0 |       118 |              64 |              23 |        89 | nan   |                      1.731 |    21 | 0         |\n",
      "| 378 |             4 |       156 |              75 |             nan |       nan |  48.3 |                      0.238 |    32 | 1         |\n",
      "| 381 |             0 |       105 |              68 |              22 |       nan |  20   |                      0.236 |    22 | 0         |\n",
      "| 386 |             5 |       116 |              74 |              29 |       nan |  32.3 |                      0.66  |    35 | 1         |\n",
      "| 387 |             8 |       105 |             100 |              36 |       nan |  43.3 |                      0.239 |    45 | 1         |\n",
      "| 391 |             5 |       166 |              76 |             nan |       nan |  45.7 |                      0.34  |    27 | 1         |\n",
      "| 394 |             4 |       158 |              78 |             nan |       nan |  32.9 |                      0.803 |    31 | 1         |\n",
      "| 397 |             0 |       131 |              66 |              40 |       nan |  34.3 |                      0.196 |    22 | 1         |\n",
      "| 398 |             3 |        82 |              70 |             nan |       nan |  21.1 |                      0.389 |    25 | 0         |\n",
      "| 399 |             3 |       193 |              70 |              31 |       nan |  34.9 |                      0.241 |    25 | 1         |\n",
      "| 400 |             4 |        95 |              64 |             nan |       nan |  32   |                      0.161 |    31 | 1         |\n",
      "| 401 |             6 |       137 |              61 |             nan |       nan |  24.2 |                      0.151 |    55 | 0         |\n",
      "| 403 |             9 |        72 |              78 |              25 |       nan |  31.6 |                      0.28  |    38 | 0         |\n",
      "| 404 |             5 |       168 |              64 |             nan |       nan |  32.9 |                      0.135 |    41 | 1         |\n",
      "| 406 |             4 |       115 |              72 |             nan |       nan |  28.9 |                      0.376 |    46 | 1         |\n",
      "| 407 |             0 |       101 |              62 |             nan |       nan |  21.9 |                      0.336 |    25 | 0         |\n",
      "| 408 |             8 |       197 |              74 |             nan |       nan |  25.9 |                      1.191 |    39 | 1         |\n",
      "| 410 |             6 |       102 |              90 |              39 |       nan |  35.7 |                      0.674 |    28 | 0         |\n",
      "| 416 |             1 |        97 |              68 |              21 |       nan |  27.2 |                      1.095 |    22 | 0         |\n",
      "| 417 |             4 |       144 |              82 |              32 |       nan |  38.5 |                      0.554 |    37 | 1         |\n",
      "| 418 |             1 |        83 |              68 |             nan |       nan |  18.2 |                      0.624 |    27 | 0         |\n",
      "| 423 |             2 |       115 |              64 |              22 |       nan |  30.8 |                      0.421 |    21 | 0         |\n",
      "| 426 |             0 |        94 |             nan |             nan |       nan | nan   |                      0.256 |    25 | 0         |\n",
      "| 430 |             2 |        99 |             nan |             nan |       nan |  22.2 |                      0.108 |    23 | 0         |\n",
      "| 433 |             2 |       139 |              75 |             nan |       nan |  25.6 |                      0.167 |    29 | 0         |\n",
      "| 434 |             1 |        90 |              68 |               8 |       nan |  24.5 |                      1.138 |    36 | 0         |\n",
      "| 435 |             0 |       141 |             nan |             nan |       nan |  42.4 |                      0.205 |    29 | 1         |\n",
      "| 436 |            12 |       140 |              85 |              33 |       nan |  37.4 |                      0.244 |    41 | 0         |\n",
      "| 437 |             5 |       147 |              75 |             nan |       nan |  29.9 |                      0.434 |    28 | 0         |\n",
      "| 438 |             1 |        97 |              70 |              15 |       nan |  18.2 |                      0.147 |    21 | 0         |\n",
      "| 439 |             6 |       107 |              88 |             nan |       nan |  36.8 |                      0.727 |    31 | 0         |\n",
      "| 440 |             0 |       189 |             104 |              25 |       nan |  34.3 |                      0.435 |    41 | 1         |\n",
      "| 443 |             8 |       108 |              70 |             nan |       nan |  30.5 |                      0.955 |    33 | 1         |\n",
      "| 444 |             4 |       117 |              62 |              12 |       nan |  29.7 |                      0.38  |    30 | 1         |\n",
      "| 451 |             2 |       134 |              70 |             nan |       nan |  28.9 |                      0.542 |    23 | 1         |\n",
      "| 453 |             2 |       119 |             nan |             nan |       nan |  19.6 |                      0.832 |    72 | 0         |\n",
      "| 455 |            14 |       175 |              62 |              30 |       nan |  33.6 |                      0.212 |    38 | 1         |\n",
      "| 456 |             1 |       135 |              54 |             nan |       nan |  26.7 |                      0.687 |    62 | 0         |\n",
      "| 461 |             1 |        71 |              62 |             nan |       nan |  21.8 |                      0.416 |    26 | 0         |\n",
      "| 463 |             5 |        88 |              78 |              30 |       nan |  27.6 |                      0.258 |    37 | 0         |\n",
      "| 464 |            10 |       115 |              98 |             nan |       nan |  24   |                      1.022 |    34 | 0         |\n",
      "| 468 |             8 |       120 |             nan |             nan |       nan |  30   |                      0.183 |    38 | 1         |\n",
      "| 470 |             1 |       144 |              82 |              40 |       nan |  41.3 |                      0.607 |    28 | 0         |\n",
      "| 471 |             0 |       137 |              70 |              38 |       nan |  33.2 |                      0.17  |    22 | 0         |\n",
      "| 472 |             0 |       119 |              66 |              27 |       nan |  38.8 |                      0.259 |    22 | 0         |\n",
      "| 473 |             7 |       136 |              90 |             nan |       nan |  29.9 |                      0.21  |    50 | 0         |\n",
      "| 474 |             4 |       114 |              64 |             nan |       nan |  28.9 |                      0.126 |    24 | 0         |\n",
      "| 475 |             0 |       137 |              84 |              27 |       nan |  27.3 |                      0.231 |    59 | 0         |\n",
      "| 479 |             4 |       132 |              86 |              31 |       nan |  28   |                      0.419 |    63 | 0         |\n",
      "| 481 |             0 |       123 |              88 |              37 |       nan |  35.2 |                      0.197 |    29 | 0         |\n",
      "| 484 |             0 |       145 |             nan |             nan |       nan |  44.2 |                      0.63  |    31 | 1         |\n",
      "| 488 |             4 |        99 |              72 |              17 |       nan |  25.6 |                      0.294 |    28 | 0         |\n",
      "| 489 |             8 |       194 |              80 |             nan |       nan |  26.1 |                      0.551 |    67 | 0         |\n",
      "| 491 |             2 |        89 |              90 |              30 |       nan |  33.5 |                      0.292 |    42 | 0         |\n",
      "| 492 |             4 |        99 |              68 |              38 |       nan |  32.8 |                      0.145 |    33 | 0         |\n",
      "| 494 |             3 |        80 |             nan |             nan |       nan | nan   |                      0.174 |    22 | 0         |\n",
      "| 495 |             6 |       166 |              74 |             nan |       nan |  26.6 |                      0.304 |    66 | 0         |\n",
      "| 496 |             5 |       110 |              68 |             nan |       nan |  26   |                      0.292 |    30 | 0         |\n",
      "| 501 |             3 |        84 |              72 |              32 |       nan |  37.2 |                      0.267 |    28 | 0         |\n",
      "| 502 |             6 |       nan |              68 |              41 |       nan |  39   |                      0.727 |    41 | 1         |\n",
      "| 504 |             3 |        96 |              78 |              39 |       nan |  37.3 |                      0.238 |    40 | 0         |\n",
      "| 505 |            10 |        75 |              82 |             nan |       nan |  33.3 |                      0.263 |    38 | 0         |\n",
      "| 509 |             8 |       120 |              78 |             nan |       nan |  25   |                      0.409 |    64 | 0         |\n",
      "| 510 |            12 |        84 |              72 |              31 |       nan |  29.7 |                      0.297 |    46 | 1         |\n",
      "| 512 |             9 |        91 |              68 |             nan |       nan |  24.2 |                      0.2   |    58 | 0         |\n",
      "| 513 |             2 |        91 |              62 |             nan |       nan |  27.3 |                      0.525 |    22 | 0         |\n",
      "| 517 |             7 |       125 |              86 |             nan |       nan |  37.6 |                      0.304 |    51 | 0         |\n",
      "| 518 |            13 |        76 |              60 |             nan |       nan |  32.8 |                      0.18  |    41 | 0         |\n",
      "| 522 |             6 |       114 |             nan |             nan |       nan | nan   |                      0.189 |    26 | 0         |\n",
      "| 523 |             9 |       130 |              70 |             nan |       nan |  34.2 |                      0.652 |    45 | 1         |\n",
      "| 524 |             3 |       125 |              58 |             nan |       nan |  31.6 |                      0.151 |    24 | 0         |\n",
      "| 525 |             3 |        87 |              60 |              18 |       nan |  21.8 |                      0.444 |    21 | 0         |\n",
      "| 529 |             0 |       111 |              65 |             nan |       nan |  24.6 |                      0.66  |    31 | 0         |\n",
      "| 531 |             0 |       107 |              76 |             nan |       nan |  45.3 |                      0.686 |    24 | 0         |\n",
      "| 533 |             6 |        91 |             nan |             nan |       nan |  29.8 |                      0.501 |    31 | 0         |\n",
      "| 535 |             4 |       132 |             nan |             nan |       nan |  32.9 |                      0.302 |    23 | 1         |\n",
      "| 536 |             0 |       105 |              90 |             nan |       nan |  29.6 |                      0.197 |    46 | 0         |\n",
      "| 537 |             0 |        57 |              60 |             nan |       nan |  21.7 |                      0.735 |    67 | 0         |\n",
      "| 542 |            10 |        90 |              85 |              32 |       nan |  34.9 |                      0.825 |    56 | 1         |\n",
      "| 549 |             4 |       189 |             110 |              31 |       nan |  28.5 |                      0.68  |    37 | 0         |\n",
      "| 550 |             1 |       116 |              70 |              28 |       nan |  27.4 |                      0.204 |    21 | 0         |\n",
      "| 552 |             6 |       114 |              88 |             nan |       nan |  27.8 |                      0.247 |    66 | 0         |\n",
      "| 556 |             1 |        97 |              70 |              40 |       nan |  38.1 |                      0.218 |    30 | 0         |\n",
      "| 557 |             8 |       110 |              76 |             nan |       nan |  27.8 |                      0.237 |    58 | 0         |\n",
      "| 558 |            11 |       103 |              68 |              40 |       nan |  46.2 |                      0.126 |    42 | 0         |\n",
      "| 559 |            11 |        85 |              74 |             nan |       nan |  30.1 |                      0.3   |    35 | 0         |\n",
      "| 560 |             6 |       125 |              76 |             nan |       nan |  33.8 |                      0.121 |    54 | 1         |\n",
      "| 564 |             0 |        91 |              80 |             nan |       nan |  32.4 |                      0.601 |    27 | 0         |\n",
      "| 570 |             3 |        78 |              70 |             nan |       nan |  32.5 |                      0.27  |    39 | 0         |\n",
      "| 571 |             2 |       130 |              96 |             nan |       nan |  22.6 |                      0.268 |    21 | 0         |\n",
      "| 577 |             2 |       118 |              80 |             nan |       nan |  42.9 |                      0.693 |    21 | 1         |\n",
      "| 578 |            10 |       133 |              68 |             nan |       nan |  27   |                      0.245 |    36 | 0         |\n",
      "| 579 |             2 |       197 |              70 |              99 |       nan |  34.7 |                      0.575 |    62 | 1         |\n",
      "| 580 |             0 |       151 |              90 |              46 |       nan |  42.1 |                      0.371 |    21 | 1         |\n",
      "| 581 |             6 |       109 |              60 |              27 |       nan |  25   |                      0.206 |    27 | 0         |\n",
      "| 582 |            12 |       121 |              78 |              17 |       nan |  26.5 |                      0.259 |    62 | 0         |\n",
      "| 583 |             8 |       100 |              76 |             nan |       nan |  38.7 |                      0.19  |    42 | 0         |\n",
      "| 585 |             1 |        93 |              56 |              11 |       nan |  22.5 |                      0.417 |    22 | 0         |\n",
      "| 586 |             8 |       143 |              66 |             nan |       nan |  34.9 |                      0.129 |    41 | 1         |\n",
      "| 587 |             6 |       103 |              66 |             nan |       nan |  24.3 |                      0.249 |    29 | 0         |\n",
      "| 589 |             0 |        73 |             nan |             nan |       nan |  21.1 |                      0.342 |    25 | 0         |\n",
      "| 590 |            11 |       111 |              84 |              40 |       nan |  46.8 |                      0.925 |    45 | 1         |\n",
      "| 592 |             3 |       132 |              80 |             nan |       nan |  34.4 |                      0.402 |    44 | 1         |\n",
      "| 596 |             0 |        67 |              76 |             nan |       nan |  45.3 |                      0.194 |    46 | 0         |\n",
      "| 598 |             1 |       173 |              74 |             nan |       nan |  36.8 |                      0.088 |    38 | 1         |\n",
      "| 600 |             1 |       108 |              88 |              19 |       nan |  27.1 |                      0.4   |    24 | 0         |\n",
      "| 601 |             6 |        96 |             nan |             nan |       nan |  23.7 |                      0.19  |    28 | 0         |\n",
      "| 602 |             1 |       124 |              74 |              36 |       nan |  27.8 |                      0.1   |    30 | 0         |\n",
      "| 604 |             4 |       183 |             nan |             nan |       nan |  28.4 |                      0.212 |    36 | 1         |\n",
      "| 605 |             1 |       124 |              60 |              32 |       nan |  35.8 |                      0.514 |    21 | 0         |\n",
      "| 613 |             6 |       105 |              80 |              28 |       nan |  32.5 |                      0.878 |    26 | 0         |\n",
      "| 615 |             3 |       106 |              72 |             nan |       nan |  25.8 |                      0.207 |    27 | 0         |\n",
      "| 616 |             6 |       117 |              96 |             nan |       nan |  28.7 |                      0.157 |    30 | 0         |\n",
      "| 618 |             9 |       112 |              82 |              24 |       nan |  28.2 |                      1.282 |    50 | 1         |\n",
      "| 619 |             0 |       119 |             nan |             nan |       nan |  32.4 |                      0.141 |    24 | 1         |\n",
      "| 621 |             2 |        92 |              76 |              20 |       nan |  24.2 |                      1.698 |    28 | 0         |\n",
      "| 622 |             6 |       183 |              94 |             nan |       nan |  40.8 |                      1.461 |    45 | 0         |\n",
      "| 624 |             2 |       108 |              64 |             nan |       nan |  30.8 |                      0.158 |    21 | 0         |\n",
      "| 626 |             0 |       125 |              68 |             nan |       nan |  24.7 |                      0.206 |    21 | 0         |\n",
      "| 627 |             0 |       132 |              78 |             nan |       nan |  32.4 |                      0.393 |    21 | 0         |\n",
      "| 628 |             5 |       128 |              80 |             nan |       nan |  34.6 |                      0.144 |    45 | 0         |\n",
      "| 629 |             4 |        94 |              65 |              22 |       nan |  24.7 |                      0.148 |    21 | 0         |\n",
      "| 630 |             7 |       114 |              64 |             nan |       nan |  27.4 |                      0.732 |    34 | 1         |\n",
      "| 632 |             2 |       111 |              60 |             nan |       nan |  26.2 |                      0.343 |    23 | 0         |\n",
      "| 634 |            10 |        92 |              62 |             nan |       nan |  25.9 |                      0.167 |    31 | 0         |\n",
      "| 635 |            13 |       104 |              72 |             nan |       nan |  31.2 |                      0.465 |    38 | 1         |\n",
      "| 636 |             5 |       104 |              74 |             nan |       nan |  28.8 |                      0.153 |    48 | 0         |\n",
      "| 641 |             4 |       128 |              70 |             nan |       nan |  34.3 |                      0.303 |    24 | 0         |\n",
      "| 642 |             6 |       147 |              80 |             nan |       nan |  29.5 |                      0.178 |    50 | 1         |\n",
      "| 643 |             4 |        90 |             nan |             nan |       nan |  28   |                      0.61  |    31 | 0         |\n",
      "| 649 |             0 |       107 |              60 |              25 |       nan |  26.4 |                      0.133 |    23 | 0         |\n",
      "| 653 |             2 |       120 |              54 |             nan |       nan |  26.8 |                      0.455 |    27 | 0         |\n",
      "| 658 |            11 |       127 |             106 |             nan |       nan |  39   |                      0.19  |    51 | 0         |\n",
      "| 660 |            10 |       162 |              84 |             nan |       nan |  27.7 |                      0.182 |    54 | 0         |\n",
      "| 661 |             1 |       199 |              76 |              43 |       nan |  42.9 |                      1.394 |    22 | 1         |\n",
      "| 664 |             6 |       115 |              60 |              39 |       nan |  33.7 |                      0.245 |    40 | 1         |\n",
      "| 666 |             4 |       145 |              82 |              18 |       nan |  32.5 |                      0.235 |    70 | 1         |\n",
      "| 667 |            10 |       111 |              70 |              27 |       nan |  27.5 |                      0.141 |    40 | 1         |\n",
      "| 671 |             1 |        99 |              58 |              10 |       nan |  25.4 |                      0.551 |    21 | 0         |\n",
      "| 674 |             8 |        91 |              82 |             nan |       nan |  35.6 |                      0.587 |    68 | 0         |\n",
      "| 675 |             6 |       195 |              70 |             nan |       nan |  30.9 |                      0.328 |    31 | 1         |\n",
      "| 676 |             9 |       156 |              86 |             nan |       nan |  24.8 |                      0.23  |    53 | 1         |\n",
      "| 677 |             0 |        93 |              60 |             nan |       nan |  35.3 |                      0.263 |    25 | 0         |\n",
      "| 678 |             3 |       121 |              52 |             nan |       nan |  36   |                      0.127 |    25 | 1         |\n",
      "| 681 |             0 |       162 |              76 |              36 |       nan |  49.6 |                      0.364 |    26 | 1         |\n",
      "| 683 |             4 |       125 |              80 |             nan |       nan |  32.3 |                      0.536 |    27 | 1         |\n",
      "| 684 |             5 |       136 |              82 |             nan |       nan | nan   |                      0.64  |    69 | 0         |\n",
      "| 686 |             3 |       130 |              64 |             nan |       nan |  23.1 |                      0.314 |    22 | 0         |\n",
      "| 687 |             1 |       107 |              50 |              19 |       nan |  28.3 |                      0.181 |    29 | 0         |\n",
      "| 690 |             8 |       107 |              80 |             nan |       nan |  24.6 |                      0.856 |    34 | 0         |\n",
      "| 691 |            13 |       158 |             114 |             nan |       nan |  42.3 |                      0.257 |    44 | 1         |\n",
      "| 694 |             2 |        90 |              60 |             nan |       nan |  23.5 |                      0.191 |    25 | 0         |\n",
      "| 697 |             0 |        99 |             nan |             nan |       nan |  25   |                      0.253 |    22 | 0         |\n",
      "| 699 |             4 |       118 |              70 |             nan |       nan |  44.5 |                      0.904 |    26 | 0         |\n",
      "| 701 |             6 |       125 |              78 |              31 |       nan |  27.6 |                      0.565 |    49 | 1         |\n",
      "| 702 |             1 |       168 |              88 |              29 |       nan |  35   |                      0.905 |    52 | 1         |\n",
      "| 703 |             2 |       129 |             nan |             nan |       nan |  38.5 |                      0.304 |    41 | 0         |\n",
      "| 705 |             6 |        80 |              80 |              36 |       nan |  39.8 |                      0.177 |    28 | 0         |\n",
      "| 706 |            10 |       115 |             nan |             nan |       nan | nan   |                      0.261 |    30 | 1         |\n",
      "| 708 |             9 |       164 |              78 |             nan |       nan |  32.8 |                      0.148 |    45 | 1         |\n",
      "| 712 |            10 |       129 |              62 |              36 |       nan |  41.2 |                      0.441 |    38 | 1         |\n",
      "| 714 |             3 |       102 |              74 |             nan |       nan |  29.5 |                      0.121 |    32 | 0         |\n",
      "| 717 |            10 |        94 |              72 |              18 |       nan |  23.1 |                      0.595 |    56 | 0         |\n",
      "| 719 |             5 |        97 |              76 |              27 |       nan |  35.6 |                      0.378 |    52 | 1         |\n",
      "| 720 |             4 |        83 |              86 |              19 |       nan |  29.3 |                      0.317 |    34 | 0         |\n",
      "| 724 |             1 |       111 |              94 |             nan |       nan |  32.8 |                      0.265 |    45 | 0         |\n",
      "| 725 |             4 |       112 |              78 |              40 |       nan |  39.4 |                      0.236 |    38 | 0         |\n",
      "| 727 |             0 |       141 |              84 |              26 |       nan |  32.4 |                      0.433 |    22 | 0         |\n",
      "| 728 |             2 |       175 |              88 |             nan |       nan |  22.9 |                      0.326 |    22 | 0         |\n",
      "| 729 |             2 |        92 |              52 |             nan |       nan |  30.1 |                      0.141 |    22 | 0         |\n",
      "| 731 |             8 |       120 |              86 |             nan |       nan |  28.4 |                      0.259 |    22 | 1         |\n",
      "| 734 |             2 |       105 |              75 |             nan |       nan |  23.3 |                      0.56  |    53 | 0         |\n",
      "| 735 |             4 |        95 |              60 |              32 |       nan |  35.4 |                      0.284 |    28 | 0         |\n",
      "| 737 |             8 |        65 |              72 |              23 |       nan |  32   |                      0.6   |    42 | 0         |\n",
      "| 739 |             1 |       102 |              74 |             nan |       nan |  39.5 |                      0.293 |    42 | 1         |\n",
      "| 743 |             9 |       140 |              94 |             nan |       nan |  32.7 |                      0.734 |    45 | 1         |\n",
      "| 746 |             1 |       147 |              94 |              41 |       nan |  49.3 |                      0.358 |    27 | 1         |\n",
      "| 749 |             6 |       162 |              62 |             nan |       nan |  24.3 |                      0.178 |    50 | 1         |\n",
      "| 750 |             4 |       136 |              70 |             nan |       nan |  31.2 |                      1.182 |    22 | 1         |\n",
      "| 752 |             3 |       108 |              62 |              24 |       nan |  26   |                      0.223 |    25 | 0         |\n",
      "| 754 |             8 |       154 |              78 |              32 |       nan |  32.4 |                      0.443 |    45 | 1         |\n",
      "| 756 |             7 |       137 |              90 |              41 |       nan |  32   |                      0.391 |    39 | 0         |\n",
      "| 757 |             0 |       123 |              72 |             nan |       nan |  36.3 |                      0.258 |    52 | 1         |\n",
      "| 758 |             1 |       106 |              76 |             nan |       nan |  37.5 |                      0.197 |    26 | 0         |\n",
      "| 759 |             6 |       190 |              92 |             nan |       nan |  35.5 |                      0.278 |    66 | 1         |\n",
      "| 761 |             9 |       170 |              74 |              31 |       nan |  44   |                      0.403 |    43 | 1         |\n",
      "| 762 |             9 |        89 |              62 |             nan |       nan |  22.5 |                      0.142 |    33 | 0         |\n",
      "| 764 |             2 |       122 |              70 |              27 |       nan |  36.8 |                      0.34  |    27 | 0         |\n",
      "| 766 |             1 |       126 |              60 |             nan |       nan |  30.1 |                      0.349 |    47 | 1         |\n",
      "| 767 |             1 |        93 |              70 |              31 |       nan |  30.4 |                      0.315 |    23 | 0         |\n",
      "+-----+---------------+-----------+-----------------+-----------------+-----------+-------+----------------------------+-------+-----------+\n",
      "376\n"
     ]
    }
   ],
   "source": [
    "# print rows with missing values\n",
    "#       any(axis=1) tells it to look at rows (axis=1 means rows, while axis=0 means columns)\n",
    "print(f'There is a count of {len(diabetes_data[diabetes_data.isnull().any(axis=1)])}  NULL values \\n')\n",
    "\n",
    "null_df = diabetes_data[diabetes_data.isnull().any(axis=1)]\n",
    "\n",
    "print(tabulate(null_df,  headers='keys', tablefmt='psql'))\n",
    "\n",
    "\n",
    "#print(len(null_df)) just to prove, it works counting the cuantity of Null values.\n",
    "\n",
    "# Visualize missing values as a heatmap\n",
    "#sns.heatmap(diabetes_data.isnull(), cbar=False)\n"
   ]
  },
  {
   "cell_type": "code",
   "execution_count": 76,
   "id": "a2c905de",
   "metadata": {},
   "outputs": [
    {
     "data": {
      "image/png": "[encoded data removed]",
      "text/plain": [
       "<Figure size 2500x1000 with 2 Axes>"
      ]
     },
     "metadata": {},
     "output_type": "display_data"
    }
   ],
   "source": [
    "#Aquellos donde no se encuentra negro seran los valores faltantes\n",
    "#recordemos que tenemos un total de 376 filas con valores faltantes\n",
    "msno.matrix(null_df, color=(0, 0, 0))\n",
    "plt.show()\n",
    "\n",
    "\n",
    "#(diabetes_data.isnull().sum() / len(diabetes_data)).plot(kind='bar')\n",
    "#plt.show()"
   ]
  },
  {
   "cell_type": "markdown",
   "id": "e3f06a2e",
   "metadata": {},
   "source": [
    "12. Go through the rows with missing data. Do you notice any patterns or overlaps between the missing data?"
   ]
  },
  {
   "cell_type": "markdown",
   "id": "cb42cfe6",
   "metadata": {},
   "source": [
    "**Your response to question 12**:"
   ]
  },
  {
   "cell_type": "markdown",
   "id": "5b597d09",
   "metadata": {},
   "source": [
    "13. Next, take a closer look at the data types of each column in `diabetes_data`.\n",
    "\n",
    "    Does the result match what you would expect?"
   ]
  },
  {
   "cell_type": "code",
   "execution_count": 92,
   "id": "5855aa09",
   "metadata": {},
   "outputs": [
    {
     "name": "stdout",
     "output_type": "stream",
     "text": [
      "Pregnancies                   int64\n",
      "Glucose                       int64\n",
      "BloodPressure                 int64\n",
      "SkinThickness                 int64\n",
      "Insulin                       int64\n",
      "BMI                         float64\n",
      "DiabetesPedigreeFunction    float64\n",
      "Age                           int64\n",
      "Outcome                       int32\n",
      "dtype: object\n"
     ]
    }
   ],
   "source": [
    "# print data types using .info() method\n",
    "print(diabetes_data.dtypes)"
   ]
  },
  {
   "cell_type": "markdown",
   "id": "c61b8b02",
   "metadata": {},
   "source": [
    "14. To figure out why the `Outcome` column is of type `object` (string) instead of type `int64`, print out the unique values in the `Outcome` column."
   ]
  },
  {
   "cell_type": "code",
   "execution_count": 91,
   "id": "ffedd117",
   "metadata": {},
   "outputs": [
    {
     "name": "stdout",
     "output_type": "stream",
     "text": [
      "[1 0]\n"
     ]
    }
   ],
   "source": [
    "# print unique values of Outcome column\n",
    "print(diabetes_data.Outcome.unique())"
   ]
  },
  {
   "cell_type": "markdown",
   "id": "42b3bcbe",
   "metadata": {},
   "source": [
    "15. How might you resolve this issue?"
   ]
  },
  {
   "cell_type": "code",
   "execution_count": 90,
   "metadata": {},
   "outputs": [
    {
     "name": "stdout",
     "output_type": "stream",
     "text": [
      "['1' '0']\n"
     ]
    }
   ],
   "source": [
    "diabetes_data[['Outcome']] = diabetes_data[['Outcome']].replace('O',0)\n",
    "diabetes_data['Outcome'] = diabetes_data['Outcome'].fillna('0')\n",
    "\n",
    "print(diabetes_data.Outcome.unique())\n",
    "\n",
    "diabetes_data[['Outcome']] = diabetes_data[['Outcome']].astype(int)"
   ]
  },
  {
   "cell_type": "markdown",
   "id": "7495f5b6",
   "metadata": {},
   "source": [
    "**Your response to question 15**:"
   ]
  },
  {
   "cell_type": "markdown",
   "id": "9c5fbcbe",
   "metadata": {},
   "source": [
    "## Next Steps:"
   ]
  },
  {
   "cell_type": "markdown",
   "id": "22a324d0",
   "metadata": {},
   "source": [
    "16. Congratulations! In this project, you saw how EDA can help with the initial data inspection and cleaning process. This is an important step as it helps to keep your datasets clean and reliable.\n",
    "\n",
    "    Here are some ways you might extend this project if you'd like:\n",
    "    - Use `.value_counts()` to more fully explore the values in each column.\n",
    "    - Investigate other outliers in the data that may be easily overlooked.\n",
    "    - Instead of changing the `0` values in the five columns to `NaN`, try replacing the values with the median or mean of each column."
   ]
  },
  {
   "cell_type": "code",
   "execution_count": null,
   "id": "b7f440b6",
   "metadata": {},
   "outputs": [],
   "source": []
  }
 ],
 "metadata": {
  "kernelspec": {
   "display_name": "Python 3 (ipykernel)",
   "language": "python",
   "name": "python3"
  },
  "language_info": {
   "codemirror_mode": {
    "name": "ipython",
    "version": 3
   },
   "file_extension": ".py",
   "mimetype": "text/x-python",
   "name": "python",
   "nbconvert_exporter": "python",
   "pygments_lexer": "ipython3",
   "version": "3.11.2"
  }
 },
 "nbformat": 4,
 "nbformat_minor": 5
}
